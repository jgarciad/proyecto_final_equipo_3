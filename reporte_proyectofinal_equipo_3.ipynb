{
 "cells": [
  {
   "cell_type": "code",
   "execution_count": 133,
   "id": "990b0eec",
   "metadata": {},
   "outputs": [],
   "source": [
    "import numpy as np\n",
    "import math\n",
    "import pandas as pd\n",
    "import networkx as nx\n",
    "import random\n",
    "import collections\n",
    "import matplotlib.pyplot as plt"
   ]
  },
  {
   "cell_type": "markdown",
   "id": "26fd10bf",
   "metadata": {},
   "source": [
    "# Trabajo final para evaluación de Métodos Numéricos de la Mestría de Ciencia de Datos (equipo 3)\n",
    "* Jorge García (202945)\n",
    "* Sandra España (203200)\n",
    "* Aline Pérez (203096)\n",
    "* Marco Antonio Ramos (142244)\n",
    "\n",
    "Este trabajo busca implementar un problema de optimización de distancia recorrida en el metro de la CDMX."
   ]
  },
  {
   "cell_type": "markdown",
   "id": "588e19c1",
   "metadata": {},
   "source": [
    "# Creación de la matriz de adyacencias entre las estaciones del metro\n",
    "\n",
    "Se obtuvo la base de datos de longitud entre estaciones del metro de la CDMX (long_interestacion) y la longitud de la estación (long_estacion). De la misma manera, se creó una lista con todas las estaciones del metro. Los datos originales se pueden consultar en la siguiente [liga](https://metro.cdmx.gob.mx/longitud-de-estacion)"
   ]
  },
  {
   "cell_type": "code",
   "execution_count": 145,
   "id": "b0db0d5f",
   "metadata": {},
   "outputs": [],
   "source": [
    "metro1=pd.read_excel('/Users/1thaliaespana1/Documents/Semestre I/Métodos Numéricos/final/distancia_metro.xlsx')\n",
    "np.set_printoptions(precision=2)\n",
    "nodos1=list(dict.fromkeys(pd.concat([metro1[\"Estacion1\"],metro1[\"Estacion2\"]])))\n",
    "N=len(nodos1)"
   ]
  },
  {
   "cell_type": "markdown",
   "id": "53a34fca",
   "metadata": {},
   "source": [
    "Se creó la matriz de adyacencias, en la cual los nodos son las estaciones y los valores son las distancias en metros"
   ]
  },
  {
   "cell_type": "code",
   "execution_count": 146,
   "id": "1331ff37",
   "metadata": {},
   "outputs": [
    {
     "name": "stdout",
     "output_type": "stream",
     "text": [
      "                      Pantitlan  Zaragoza  GomezFarias  BoulevardPuertoAereo  \\\n",
      "Pantitlan                   0.0    1320.0          0.0                   0.0   \n",
      "Zaragoza                 1320.0       0.0        762.0                   0.0   \n",
      "GomezFarias                 0.0     762.0          0.0                 611.0   \n",
      "BoulevardPuertoAereo        0.0       0.0        611.0                   0.0   \n",
      "Balbuena                    0.0       0.0          0.0                 595.0   \n",
      "...                         ...       ...          ...                   ...   \n",
      "MartinCarrera               0.0       0.0          0.0                   0.0   \n",
      "BarrancadelMuerto           0.0       0.0          0.0                   0.0   \n",
      "Constitucionde1917          0.0       0.0          0.0                   0.0   \n",
      "LaPaz                       0.0       0.0          0.0                   0.0   \n",
      "Buenavista                  0.0       0.0          0.0                   0.0   \n",
      "\n",
      "                      Balbuena  Moctezuma  SanLazaro  Candelaria  Merced  \\\n",
      "Pantitlan                  0.0        0.0        0.0         0.0     0.0   \n",
      "Zaragoza                   0.0        0.0        0.0         0.0     0.0   \n",
      "GomezFarias                0.0        0.0        0.0         0.0     0.0   \n",
      "BoulevardPuertoAereo     595.0        0.0        0.0         0.0     0.0   \n",
      "Balbuena                   0.0      703.0        0.0         0.0     0.0   \n",
      "...                        ...        ...        ...         ...     ...   \n",
      "MartinCarrera              0.0        0.0        0.0         0.0     0.0   \n",
      "BarrancadelMuerto          0.0        0.0        0.0         0.0     0.0   \n",
      "Constitucionde1917         0.0        0.0        0.0         0.0     0.0   \n",
      "LaPaz                      0.0        0.0        0.0         0.0     0.0   \n",
      "Buenavista                 0.0        0.0        0.0         0.0     0.0   \n",
      "\n",
      "                      PinoSuarez  ...  InsurgentesSur  Observatorio  Tasquena  \\\n",
      "Pantitlan                    0.0  ...             0.0           0.0       0.0   \n",
      "Zaragoza                     0.0  ...             0.0           0.0       0.0   \n",
      "GomezFarias                  0.0  ...             0.0           0.0       0.0   \n",
      "BoulevardPuertoAereo         0.0  ...             0.0           0.0       0.0   \n",
      "Balbuena                     0.0  ...             0.0           0.0       0.0   \n",
      "...                          ...  ...             ...           ...       ...   \n",
      "MartinCarrera                0.0  ...             0.0           0.0       0.0   \n",
      "BarrancadelMuerto            0.0  ...             0.0           0.0       0.0   \n",
      "Constitucionde1917           0.0  ...             0.0           0.0       0.0   \n",
      "LaPaz                        0.0  ...             0.0           0.0       0.0   \n",
      "Buenavista                   0.0  ...             0.0           0.0       0.0   \n",
      "\n",
      "                      Divisiondelnorte  Universidad  MartinCarrera  \\\n",
      "Pantitlan                          0.0          0.0            0.0   \n",
      "Zaragoza                           0.0          0.0            0.0   \n",
      "GomezFarias                        0.0          0.0            0.0   \n",
      "BoulevardPuertoAereo               0.0          0.0            0.0   \n",
      "Balbuena                           0.0          0.0            0.0   \n",
      "...                                ...          ...            ...   \n",
      "MartinCarrera                      0.0          0.0            0.0   \n",
      "BarrancadelMuerto                  0.0          0.0            0.0   \n",
      "Constitucionde1917                 0.0          0.0            0.0   \n",
      "LaPaz                              0.0          0.0            0.0   \n",
      "Buenavista                         0.0          0.0            0.0   \n",
      "\n",
      "                      BarrancadelMuerto  Constitucionde1917  LaPaz  Buenavista  \n",
      "Pantitlan                           0.0                 0.0    0.0         0.0  \n",
      "Zaragoza                            0.0                 0.0    0.0         0.0  \n",
      "GomezFarias                         0.0                 0.0    0.0         0.0  \n",
      "BoulevardPuertoAereo                0.0                 0.0    0.0         0.0  \n",
      "Balbuena                            0.0                 0.0    0.0         0.0  \n",
      "...                                 ...                 ...    ...         ...  \n",
      "MartinCarrera                       0.0                 0.0    0.0         0.0  \n",
      "BarrancadelMuerto                   0.0                 0.0    0.0         0.0  \n",
      "Constitucionde1917                  0.0                 0.0    0.0         0.0  \n",
      "LaPaz                               0.0                 0.0    0.0         0.0  \n",
      "Buenavista                          0.0                 0.0    0.0         0.0  \n",
      "\n",
      "[164 rows x 164 columns]\n"
     ]
    }
   ],
   "source": [
    "df1=np.zeros((N,N))\n",
    "adyacencia1=pd.DataFrame(df1)\n",
    "adyacencia1.columns=adyacencia1.index=nodos1\n",
    "\n",
    "for i in nodos1:\n",
    "    for j in nodos1:\n",
    "        adyacencia1[i][j]=metro1[(metro1[\"Estacion1\"]==i)&(metro1[\"Estacion2\"]==j)][\"Long_interestacion\"]\n",
    "\n",
    "adyacencia1=adyacencia1.fillna(0)\n",
    "adyacencia1=np.transpose(adyacencia1)+adyacencia1\n",
    "print(adyacencia1)"
   ]
  },
  {
   "cell_type": "markdown",
   "id": "98335cf1",
   "metadata": {},
   "source": [
    "Verificamos que no haya columnas que no tengan distancias en ninguna de sus entradas"
   ]
  },
  {
   "cell_type": "code",
   "execution_count": 149,
   "id": "d55e4a65",
   "metadata": {},
   "outputs": [
    {
     "name": "stdout",
     "output_type": "stream",
     "text": [
      "máxima distancia por estación\n",
      "\n",
      "\n",
      " Pantitlan               1644.0\n",
      "Zaragoza                1320.0\n",
      "GomezFarias              762.0\n",
      "BoulevardPuertoAereo     611.0\n",
      "Balbuena                 703.0\n",
      "                         ...  \n",
      "MartinCarrera           1141.0\n",
      "BarrancadelMuerto       1476.0\n",
      "Constitucionde1917      1137.0\n",
      "LaPaz                   1956.0\n",
      "Buenavista               521.0\n",
      "Length: 164, dtype: float64\n",
      "\n",
      "verificamos que no haya un máximo igual a cero (es decir, que todas las estaciones tengan al menos una adyacencia)\n",
      "\n",
      "\n",
      " [ 445.  456.  516.  521.  564.  574.  587.  602.  611.  611.  611.  620.\n",
      "  634.  637.  645.  653.  657.  657.  659.  665.  665.  698.  702.  703.\n",
      "  703.  709.  709.  715.  725.  725.  732.  745.  745.  750.  755.  757.\n",
      "  761.  762.  774.  788.  789.  793.  793.  794.  817.  817.  843.  860.\n",
      "  884.  908.  908.  908.  910.  910.  924.  924.  942.  950.  959.  968.\n",
      "  969.  969.  973.  993.  993. 1033. 1033. 1042. 1059. 1060. 1060. 1062.\n",
      " 1067. 1072. 1084. 1106. 1110. 1110. 1111. 1119. 1129. 1133. 1135. 1137.\n",
      " 1137. 1141. 1141. 1143. 1143. 1152. 1152. 1153. 1153. 1155. 1158. 1163.\n",
      " 1165. 1165. 1166. 1166. 1173. 1173. 1174. 1188. 1219. 1219. 1257. 1258.\n",
      " 1258. 1262. 1262. 1276. 1280. 1280. 1295. 1295. 1296. 1296. 1298. 1298.\n",
      " 1306. 1306. 1320. 1330. 1330. 1335. 1360. 1360. 1379. 1380. 1393. 1393.\n",
      " 1402. 1409. 1430. 1430. 1433. 1433. 1445. 1445. 1456. 1456. 1476. 1476.\n",
      " 1485. 1485. 1545. 1545. 1615. 1615. 1639. 1639. 1644. 1644. 1671. 1738.\n",
      " 1783. 1805. 1922. 1922. 1956. 1956. 2206. 2206.]\n"
     ]
    },
    {
     "name": "stderr",
     "output_type": "stream",
     "text": [
      "/Users/1thaliaespana1/opt/anaconda3/lib/python3.9/site-packages/numpy/core/fromnumeric.py:84: FutureWarning: In a future version, DataFrame.max(axis=None) will return a scalar max over the entire DataFrame. To retain the old behavior, use 'frame.max(axis=0)' or just 'frame.max()'\n",
      "  return reduction(axis=axis, out=out, **passkwargs)\n",
      "/Users/1thaliaespana1/opt/anaconda3/lib/python3.9/site-packages/numpy/core/fromnumeric.py:84: FutureWarning: In a future version, DataFrame.max(axis=None) will return a scalar max over the entire DataFrame. To retain the old behavior, use 'frame.max(axis=0)' or just 'frame.max()'\n",
      "  return reduction(axis=axis, out=out, **passkwargs)\n"
     ]
    }
   ],
   "source": [
    "print(\"máxima distancia por estación\\n\")\n",
    "print(\"\\n\",np.max(adyacencia1))\n",
    "print(\"\\nverificamos que no haya un máximo igual a cero (es decir, que todas las estaciones tengan al menos una adyacencia)\\n\")\n",
    "print(\"\\n\",np.sort(np.max(adyacencia1)))"
   ]
  },
  {
   "cell_type": "markdown",
   "id": "82814220",
   "metadata": {},
   "source": [
    "# Creación del grafo de la matriz de adyacencias"
   ]
  },
  {
   "cell_type": "code",
   "execution_count": null,
   "id": "37f93199",
   "metadata": {},
   "outputs": [],
   "source": []
  },
  {
   "cell_type": "code",
   "execution_count": null,
   "id": "cf998bd7",
   "metadata": {},
   "outputs": [],
   "source": []
  }
 ],
 "metadata": {
  "kernelspec": {
   "display_name": "Python 3 (ipykernel)",
   "language": "python",
   "name": "python3"
  },
  "language_info": {
   "codemirror_mode": {
    "name": "ipython",
    "version": 3
   },
   "file_extension": ".py",
   "mimetype": "text/x-python",
   "name": "python",
   "nbconvert_exporter": "python",
   "pygments_lexer": "ipython3",
   "version": "3.9.12"
  }
 },
 "nbformat": 4,
 "nbformat_minor": 5
}
