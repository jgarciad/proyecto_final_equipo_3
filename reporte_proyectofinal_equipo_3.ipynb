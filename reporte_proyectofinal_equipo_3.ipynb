{
 "cells": [
  {
   "cell_type": "code",
   "execution_count": 5,
   "id": "990b0eec",
   "metadata": {},
   "outputs": [],
   "source": [
    "import numpy as np\n",
    "import math\n",
    "import pandas as pd\n",
    "import networkx as nx\n",
    "import random\n",
    "import collections\n",
    "import matplotlib.pyplot as plt"
   ]
  },
  {
   "cell_type": "markdown",
   "id": "26fd10bf",
   "metadata": {},
   "source": [
    "# Trabajo final para evaluación de Métodos Numéricos de la Mestría de Ciencia de Datos (equipo 3)\n",
    "* Jorge García (202945)\n",
    "* Sandra España (203200)\n",
    "* Aline Pérez (203096)\n",
    "* Marco Antonio Ramos (142244)\n",
    "\n",
    "Este trabajo busca implementar un problema de optimización de distancia recorrida en el metro de la CDMX."
   ]
  },
  {
   "cell_type": "markdown",
   "id": "588e19c1",
   "metadata": {},
   "source": [
    "# Creación de la matriz de adyacencias entre las estaciones del metro\n",
    "\n",
    "Se obtuvo la base de datos de longitud entre estaciones del metro de la CDMX (long_interestacion) y la longitud de la estación (long_estacion). De la misma manera, se creó una lista con todas las estaciones del metro. Los datos originales se pueden consultar en la siguiente [liga](https://metro.cdmx.gob.mx/longitud-de-estacion)"
   ]
  },
  {
   "cell_type": "code",
   "execution_count": 7,
   "id": "b0db0d5f",
   "metadata": {},
   "outputs": [],
   "source": [
    "metro1=pd.read_excel('Data1/distancia_metro.xlsx')\n",
    "np.set_printoptions(precision=2)\n",
    "nodos1=list(dict.fromkeys(pd.concat([metro1[\"Estacion1\"],metro1[\"Estacion2\"]])))\n",
    "N=len(nodos1)"
   ]
  },
  {
   "cell_type": "markdown",
   "id": "53a34fca",
   "metadata": {},
   "source": [
    "Se creó la matriz de adyacencias, en la cual los nodos son las estaciones y los valores son las distancias en metros"
   ]
  },
  {
   "cell_type": "code",
   "execution_count": 5,
   "id": "1331ff37",
   "metadata": {},
   "outputs": [
    {
     "name": "stdout",
     "output_type": "stream",
     "text": [
      "                      Pantitlan  Zaragoza  GomezFarias  BoulevardPuertoAereo  \\\n",
      "Pantitlan                   0.0    1320.0          0.0                   0.0   \n",
      "Zaragoza                 1320.0       0.0        762.0                   0.0   \n",
      "GomezFarias                 0.0     762.0          0.0                 611.0   \n",
      "BoulevardPuertoAereo        0.0       0.0        611.0                   0.0   \n",
      "Balbuena                    0.0       0.0          0.0                 595.0   \n",
      "...                         ...       ...          ...                   ...   \n",
      "MartinCarrera               0.0       0.0          0.0                   0.0   \n",
      "BarrancadelMuerto           0.0       0.0          0.0                   0.0   \n",
      "Constitucionde1917          0.0       0.0          0.0                   0.0   \n",
      "LaPaz                       0.0       0.0          0.0                   0.0   \n",
      "Buenavista                  0.0       0.0          0.0                   0.0   \n",
      "\n",
      "                      Balbuena  Moctezuma  SanLazaro  Candelaria  Merced  \\\n",
      "Pantitlan                  0.0        0.0        0.0         0.0     0.0   \n",
      "Zaragoza                   0.0        0.0        0.0         0.0     0.0   \n",
      "GomezFarias                0.0        0.0        0.0         0.0     0.0   \n",
      "BoulevardPuertoAereo     595.0        0.0        0.0         0.0     0.0   \n",
      "Balbuena                   0.0      703.0        0.0         0.0     0.0   \n",
      "...                        ...        ...        ...         ...     ...   \n",
      "MartinCarrera              0.0        0.0        0.0         0.0     0.0   \n",
      "BarrancadelMuerto          0.0        0.0        0.0         0.0     0.0   \n",
      "Constitucionde1917         0.0        0.0        0.0         0.0     0.0   \n",
      "LaPaz                      0.0        0.0        0.0         0.0     0.0   \n",
      "Buenavista                 0.0        0.0        0.0         0.0     0.0   \n",
      "\n",
      "                      PinoSuarez  ...  InsurgentesSur  Observatorio  Tasquena  \\\n",
      "Pantitlan                    0.0  ...             0.0           0.0       0.0   \n",
      "Zaragoza                     0.0  ...             0.0           0.0       0.0   \n",
      "GomezFarias                  0.0  ...             0.0           0.0       0.0   \n",
      "BoulevardPuertoAereo         0.0  ...             0.0           0.0       0.0   \n",
      "Balbuena                     0.0  ...             0.0           0.0       0.0   \n",
      "...                          ...  ...             ...           ...       ...   \n",
      "MartinCarrera                0.0  ...             0.0           0.0       0.0   \n",
      "BarrancadelMuerto            0.0  ...             0.0           0.0       0.0   \n",
      "Constitucionde1917           0.0  ...             0.0           0.0       0.0   \n",
      "LaPaz                        0.0  ...             0.0           0.0       0.0   \n",
      "Buenavista                   0.0  ...             0.0           0.0       0.0   \n",
      "\n",
      "                      Divisiondelnorte  Universidad  MartinCarrera  \\\n",
      "Pantitlan                          0.0          0.0            0.0   \n",
      "Zaragoza                           0.0          0.0            0.0   \n",
      "GomezFarias                        0.0          0.0            0.0   \n",
      "BoulevardPuertoAereo               0.0          0.0            0.0   \n",
      "Balbuena                           0.0          0.0            0.0   \n",
      "...                                ...          ...            ...   \n",
      "MartinCarrera                      0.0          0.0            0.0   \n",
      "BarrancadelMuerto                  0.0          0.0            0.0   \n",
      "Constitucionde1917                 0.0          0.0            0.0   \n",
      "LaPaz                              0.0          0.0            0.0   \n",
      "Buenavista                         0.0          0.0            0.0   \n",
      "\n",
      "                      BarrancadelMuerto  Constitucionde1917  LaPaz  Buenavista  \n",
      "Pantitlan                           0.0                 0.0    0.0         0.0  \n",
      "Zaragoza                            0.0                 0.0    0.0         0.0  \n",
      "GomezFarias                         0.0                 0.0    0.0         0.0  \n",
      "BoulevardPuertoAereo                0.0                 0.0    0.0         0.0  \n",
      "Balbuena                            0.0                 0.0    0.0         0.0  \n",
      "...                                 ...                 ...    ...         ...  \n",
      "MartinCarrera                       0.0                 0.0    0.0         0.0  \n",
      "BarrancadelMuerto                   0.0                 0.0    0.0         0.0  \n",
      "Constitucionde1917                  0.0                 0.0    0.0         0.0  \n",
      "LaPaz                               0.0                 0.0    0.0         0.0  \n",
      "Buenavista                          0.0                 0.0    0.0         0.0  \n",
      "\n",
      "[164 rows x 164 columns]\n"
     ]
    }
   ],
   "source": [
    "df1=np.zeros((N,N))\n",
    "adyacencia1=pd.DataFrame(df1)\n",
    "adyacencia1.columns=adyacencia1.index=nodos1\n",
    "\n",
    "for i in nodos1:\n",
    "    for j in nodos1:\n",
    "        adyacencia1[i][j]=metro1[(metro1[\"Estacion1\"]==i)&(metro1[\"Estacion2\"]==j)][\"Long_interestacion\"]\n",
    "\n",
    "adyacencia1=adyacencia1.fillna(0)\n",
    "adyacencia1=np.transpose(adyacencia1)+adyacencia1\n",
    "print(adyacencia1)"
   ]
  },
  {
   "cell_type": "markdown",
   "id": "98335cf1",
   "metadata": {},
   "source": [
    "Verificamos que no haya columnas que no tengan distancias en ninguna de sus entradas"
   ]
  },
  {
   "cell_type": "code",
   "execution_count": 149,
   "id": "d55e4a65",
   "metadata": {},
   "outputs": [
    {
     "name": "stdout",
     "output_type": "stream",
     "text": [
      "máxima distancia por estación\n",
      "\n",
      "\n",
      " Pantitlan               1644.0\n",
      "Zaragoza                1320.0\n",
      "GomezFarias              762.0\n",
      "BoulevardPuertoAereo     611.0\n",
      "Balbuena                 703.0\n",
      "                         ...  \n",
      "MartinCarrera           1141.0\n",
      "BarrancadelMuerto       1476.0\n",
      "Constitucionde1917      1137.0\n",
      "LaPaz                   1956.0\n",
      "Buenavista               521.0\n",
      "Length: 164, dtype: float64\n",
      "\n",
      "verificamos que no haya un máximo igual a cero (es decir, que todas las estaciones tengan al menos una adyacencia)\n",
      "\n",
      "\n",
      " [ 445.  456.  516.  521.  564.  574.  587.  602.  611.  611.  611.  620.\n",
      "  634.  637.  645.  653.  657.  657.  659.  665.  665.  698.  702.  703.\n",
      "  703.  709.  709.  715.  725.  725.  732.  745.  745.  750.  755.  757.\n",
      "  761.  762.  774.  788.  789.  793.  793.  794.  817.  817.  843.  860.\n",
      "  884.  908.  908.  908.  910.  910.  924.  924.  942.  950.  959.  968.\n",
      "  969.  969.  973.  993.  993. 1033. 1033. 1042. 1059. 1060. 1060. 1062.\n",
      " 1067. 1072. 1084. 1106. 1110. 1110. 1111. 1119. 1129. 1133. 1135. 1137.\n",
      " 1137. 1141. 1141. 1143. 1143. 1152. 1152. 1153. 1153. 1155. 1158. 1163.\n",
      " 1165. 1165. 1166. 1166. 1173. 1173. 1174. 1188. 1219. 1219. 1257. 1258.\n",
      " 1258. 1262. 1262. 1276. 1280. 1280. 1295. 1295. 1296. 1296. 1298. 1298.\n",
      " 1306. 1306. 1320. 1330. 1330. 1335. 1360. 1360. 1379. 1380. 1393. 1393.\n",
      " 1402. 1409. 1430. 1430. 1433. 1433. 1445. 1445. 1456. 1456. 1476. 1476.\n",
      " 1485. 1485. 1545. 1545. 1615. 1615. 1639. 1639. 1644. 1644. 1671. 1738.\n",
      " 1783. 1805. 1922. 1922. 1956. 1956. 2206. 2206.]\n"
     ]
    },
    {
     "name": "stderr",
     "output_type": "stream",
     "text": [
      "/Users/1thaliaespana1/opt/anaconda3/lib/python3.9/site-packages/numpy/core/fromnumeric.py:84: FutureWarning: In a future version, DataFrame.max(axis=None) will return a scalar max over the entire DataFrame. To retain the old behavior, use 'frame.max(axis=0)' or just 'frame.max()'\n",
      "  return reduction(axis=axis, out=out, **passkwargs)\n",
      "/Users/1thaliaespana1/opt/anaconda3/lib/python3.9/site-packages/numpy/core/fromnumeric.py:84: FutureWarning: In a future version, DataFrame.max(axis=None) will return a scalar max over the entire DataFrame. To retain the old behavior, use 'frame.max(axis=0)' or just 'frame.max()'\n",
      "  return reduction(axis=axis, out=out, **passkwargs)\n"
     ]
    }
   ],
   "source": [
    "print(\"máxima distancia por estación\\n\")\n",
    "print(\"\\n\",np.max(adyacencia1))\n",
    "print(\"\\nverificamos que no haya un máximo igual a cero (es decir, que todas las estaciones tengan al menos una adyacencia)\\n\")\n",
    "print(\"\\n\",np.sort(np.max(adyacencia1)))"
   ]
  },
  {
   "cell_type": "markdown",
   "id": "82814220",
   "metadata": {},
   "source": [
    "# Creación del grafo de la matriz de adyacencias"
   ]
  },
  {
   "cell_type": "markdown",
   "id": "ba16620e",
   "metadata": {},
   "source": [
    "# Matriz de afluencia"
   ]
  },
  {
   "cell_type": "markdown",
   "id": "c127aba7",
   "metadata": {},
   "source": [
    "Como complemento al modelo original y queriendo responder preguntas como: ¿Que ruta es más cómoda en términos de afluencia de personas?, es decir que pasa si como usuario del metro me interesa más que la ruta más corta la ruta más cómoda en términos del número de personas que la transitan. \n",
    "<br>\n",
    "<br>\n",
    "Bajo este enfoque nos interesa agregar la siguiente base tomada de https://datos.cdmx.gob.mx/dataset/afluencia-diaria-del-metro-cdmx , Esta base muestra la afluencia diaria del Metro CDMX. Los datos se encuentran actualizados al 1 de diciembre de 2022 y su profundidad histórica abarca desde enero 2010 al 31 de octubre 2022. \n",
    "<br>\n",
    "<br>\n",
    "La base de afluencia desglosada se refiere a la afluencia en el Organismo Público de Transporte STC Metro, separada por medio de acceso, los cuales son: Tarjeta Única de Movilidad Integrada, boleto y gratuidad, esta última se refiere al acceso gratuito para las personas adultos mayores, personas con discapacidad y/o niños menores de 5 años, de acuerdo a los requisitos establecidos por el Organismo.\n"
   ]
  },
  {
   "cell_type": "code",
   "execution_count": 12,
   "id": "73d26b92",
   "metadata": {},
   "outputs": [
    {
     "data": {
      "text/html": [
       "<div>\n",
       "<style scoped>\n",
       "    .dataframe tbody tr th:only-of-type {\n",
       "        vertical-align: middle;\n",
       "    }\n",
       "\n",
       "    .dataframe tbody tr th {\n",
       "        vertical-align: top;\n",
       "    }\n",
       "\n",
       "    .dataframe thead th {\n",
       "        text-align: right;\n",
       "    }\n",
       "</style>\n",
       "<table border=\"1\" class=\"dataframe\">\n",
       "  <thead>\n",
       "    <tr style=\"text-align: right;\">\n",
       "      <th></th>\n",
       "      <th>fecha</th>\n",
       "      <th>anio</th>\n",
       "      <th>mes</th>\n",
       "      <th>linea</th>\n",
       "      <th>estacion</th>\n",
       "      <th>afluencia</th>\n",
       "    </tr>\n",
       "  </thead>\n",
       "  <tbody>\n",
       "    <tr>\n",
       "      <th>0</th>\n",
       "      <td>2010-01-01</td>\n",
       "      <td>2010</td>\n",
       "      <td>Enero</td>\n",
       "      <td>Linea 1</td>\n",
       "      <td>Zaragoza</td>\n",
       "      <td>20227</td>\n",
       "    </tr>\n",
       "    <tr>\n",
       "      <th>1</th>\n",
       "      <td>2010-01-01</td>\n",
       "      <td>2010</td>\n",
       "      <td>Enero</td>\n",
       "      <td>Linea 1</td>\n",
       "      <td>Isabel la CatÃ³lica</td>\n",
       "      <td>6487</td>\n",
       "    </tr>\n",
       "    <tr>\n",
       "      <th>2</th>\n",
       "      <td>2010-01-01</td>\n",
       "      <td>2010</td>\n",
       "      <td>Enero</td>\n",
       "      <td>Linea 1</td>\n",
       "      <td>Moctezuma</td>\n",
       "      <td>10304</td>\n",
       "    </tr>\n",
       "    <tr>\n",
       "      <th>3</th>\n",
       "      <td>2010-01-01</td>\n",
       "      <td>2010</td>\n",
       "      <td>Enero</td>\n",
       "      <td>Linea 1</td>\n",
       "      <td>Pino SuÃ¡rez</td>\n",
       "      <td>8679</td>\n",
       "    </tr>\n",
       "    <tr>\n",
       "      <th>4</th>\n",
       "      <td>2010-01-01</td>\n",
       "      <td>2010</td>\n",
       "      <td>Enero</td>\n",
       "      <td>Linea 1</td>\n",
       "      <td>GÃ³mez FarÃ­as</td>\n",
       "      <td>19499</td>\n",
       "    </tr>\n",
       "  </tbody>\n",
       "</table>\n",
       "</div>"
      ],
      "text/plain": [
       "       fecha  anio    mes    linea             estacion  afluencia\n",
       "0 2010-01-01  2010  Enero  Linea 1             Zaragoza      20227\n",
       "1 2010-01-01  2010  Enero  Linea 1  Isabel la CatÃ³lica       6487\n",
       "2 2010-01-01  2010  Enero  Linea 1            Moctezuma      10304\n",
       "3 2010-01-01  2010  Enero  Linea 1         Pino SuÃ¡rez       8679\n",
       "4 2010-01-01  2010  Enero  Linea 1       GÃ³mez FarÃ­as      19499"
      ]
     },
     "execution_count": 12,
     "metadata": {},
     "output_type": "execute_result"
    }
   ],
   "source": [
    "afluencia = pd.read_csv('Data1/afluenciastc_simple_01_12_2022.csv', encoding='cp1252')\n",
    "afluencia['fecha']=pd.to_datetime(afluencia['fecha'], format='%d/%m/%Y')\n",
    "afluencia.head()"
   ]
  },
  {
   "cell_type": "markdown",
   "id": "42b35878",
   "metadata": {},
   "source": [
    "Por ejemplo podemos ver el top 5 de las estaciones con mayor afluencia para el día más reciente en la base '2022-10-31', sin considerar la linea:"
   ]
  },
  {
   "cell_type": "code",
   "execution_count": 41,
   "id": "2ba6e614",
   "metadata": {},
   "outputs": [
    {
     "data": {
      "text/plain": [
       "fecha       estacion             \n",
       "2022-10-31  PantitlÃ¡n               159357\n",
       "            Indios Verdes            102621\n",
       "            ConstituciÃ³n de 1917     87075\n",
       "            Tacubaya                  81492\n",
       "            TasqueÃ±a                 73599\n",
       "Name: afluencia, dtype: int64"
      ]
     },
     "execution_count": 41,
     "metadata": {},
     "output_type": "execute_result"
    }
   ],
   "source": [
    "afluencia[afluencia['fecha']=='2022-10-31'].groupby(['fecha','estacion'])['afluencia'].sum().sort_values(ascending=False)\\\n",
    ".head(5)"
   ]
  },
  {
   "cell_type": "code",
   "execution_count": 46,
   "id": "382b917e",
   "metadata": {},
   "outputs": [
    {
     "data": {
      "text/html": [
       "<div>\n",
       "<style scoped>\n",
       "    .dataframe tbody tr th:only-of-type {\n",
       "        vertical-align: middle;\n",
       "    }\n",
       "\n",
       "    .dataframe tbody tr th {\n",
       "        vertical-align: top;\n",
       "    }\n",
       "\n",
       "    .dataframe thead th {\n",
       "        text-align: right;\n",
       "    }\n",
       "</style>\n",
       "<table border=\"1\" class=\"dataframe\">\n",
       "  <thead>\n",
       "    <tr style=\"text-align: right;\">\n",
       "      <th></th>\n",
       "      <th>fecha</th>\n",
       "      <th>anio</th>\n",
       "      <th>mes</th>\n",
       "      <th>linea</th>\n",
       "      <th>estacion</th>\n",
       "      <th>afluencia</th>\n",
       "    </tr>\n",
       "  </thead>\n",
       "  <tbody>\n",
       "    <tr>\n",
       "      <th>913978</th>\n",
       "      <td>2022-10-31</td>\n",
       "      <td>2022</td>\n",
       "      <td>Octubre</td>\n",
       "      <td>Linea 1</td>\n",
       "      <td>PantitlÃ¡n</td>\n",
       "      <td>0</td>\n",
       "    </tr>\n",
       "    <tr>\n",
       "      <th>914069</th>\n",
       "      <td>2022-10-31</td>\n",
       "      <td>2022</td>\n",
       "      <td>Octubre</td>\n",
       "      <td>Linea 5</td>\n",
       "      <td>PantitlÃ¡n</td>\n",
       "      <td>51160</td>\n",
       "    </tr>\n",
       "    <tr>\n",
       "      <th>914124</th>\n",
       "      <td>2022-10-31</td>\n",
       "      <td>2022</td>\n",
       "      <td>Octubre</td>\n",
       "      <td>Linea 9</td>\n",
       "      <td>PantitlÃ¡n</td>\n",
       "      <td>61233</td>\n",
       "    </tr>\n",
       "    <tr>\n",
       "      <th>914135</th>\n",
       "      <td>2022-10-31</td>\n",
       "      <td>2022</td>\n",
       "      <td>Octubre</td>\n",
       "      <td>Linea A</td>\n",
       "      <td>PantitlÃ¡n</td>\n",
       "      <td>46964</td>\n",
       "    </tr>\n",
       "  </tbody>\n",
       "</table>\n",
       "</div>"
      ],
      "text/plain": [
       "            fecha  anio      mes    linea    estacion  afluencia\n",
       "913978 2022-10-31  2022  Octubre  Linea 1  PantitlÃ¡n          0\n",
       "914069 2022-10-31  2022  Octubre  Linea 5  PantitlÃ¡n      51160\n",
       "914124 2022-10-31  2022  Octubre  Linea 9  PantitlÃ¡n      61233\n",
       "914135 2022-10-31  2022  Octubre  Linea A  PantitlÃ¡n      46964"
      ]
     },
     "execution_count": 46,
     "metadata": {},
     "output_type": "execute_result"
    }
   ],
   "source": [
    "afluencia[(afluencia['fecha']=='2022-10-31')&(afluencia['estacion'].str.contains('Pantitl'))]"
   ]
  },
  {
   "cell_type": "code",
   "execution_count": 51,
   "id": "edbcb18d",
   "metadata": {},
   "outputs": [
    {
     "data": {
      "text/plain": [
       "fecha       estacion             \n",
       "2012-12-07  PantitlÃ¡n               460089\n",
       "2014-09-09  PantitlÃ¡n               448771\n",
       "2018-10-26  PantitlÃ¡n               448747\n",
       "2018-11-27  PantitlÃ¡n               447495\n",
       "2018-11-30  PantitlÃ¡n               446905\n",
       "                                      ...  \n",
       "2021-07-10  Mexicaltzingo                 0\n",
       "2010-09-18  Parque de los Venados         0\n",
       "2012-02-22  20 de Noviembre               0\n",
       "2010-09-18  Olivos                        0\n",
       "2010-01-01  20 de Noviembre               0\n",
       "Name: afluencia, Length: 764033, dtype: int64"
      ]
     },
     "execution_count": 51,
     "metadata": {},
     "output_type": "execute_result"
    }
   ],
   "source": [
    "afluencia.groupby(['fecha','estacion'])['afluencia'].sum().sort_values(ascending=False)"
   ]
  },
  {
   "cell_type": "code",
   "execution_count": 48,
   "id": "c805c8b6",
   "metadata": {},
   "outputs": [
    {
     "data": {
      "text/plain": [
       "<AxesSubplot:xlabel='fecha'>"
      ]
     },
     "execution_count": 48,
     "metadata": {},
     "output_type": "execute_result"
    },
    {
     "data": {
      "image/png": "[encoded data removed]",
      "text/plain": [
       "<Figure size 432x288 with 1 Axes>"
      ]
     },
     "metadata": {
      "needs_background": "light"
     },
     "output_type": "display_data"
    }
   ],
   "source": [
    "afluencia2 = afluencia.set_index('fecha')\n",
    "afluencia2[afluencia2['estacion'].str.contains('Pantitl')]['afluencia'].plot()"
   ]
  },
  {
   "cell_type": "markdown",
   "id": "4390bee2",
   "metadata": {},
   "source": [
    "Observemos que Pantitlán por ejemplo es una de las estaciones que históricamente ha tenido mayor afluencia de personas, también podemos notar que antes de la pandemia, la concentración de personas era mucho mayor, que post-Covid. Esto nos lleva a preguntarnos como integrar esta información en nuestros datos dado que históricamente cada estación tiene una afluencia distinta. Lo más sencillo es cortar nuestra información a partir de 2021 donde la movilidad empieza a estabilizarse debido a que la pandemia comienza su desaceleración, de esta manera podemos tomarnos como valor fijo entre nodos la mediana de los datos, para este rango de fechas, siendo este un mejor estimador que la media.\n",
    "<br>\n",
    "<br>\n",
    "Supondremos además que la afluencia tiene dirección, es decir si vas en la línea 1 por ejemplo de Zaragoza a Pantitlán, sabemos que la mediana de afluencia en Pantitlán es n, así que en esa dirección habrá n cantidad de personas aproximadamente, y viceversa. \n",
    "<br>\n",
    "<br>\n",
    "Este quizá sea uno de los supuestos más grandes al integrar esta matriz al modelo, pues no estamos considerando horarios, la afluencia es el número de personas totales al día, sin considerar que en horarios 6-9 am o 6-9 pm, son horarios de mucho mayor cocentración de personas por las horas laborales entre semana y varian bastante los fines de semana.\n"
   ]
  },
  {
   "cell_type": "code",
   "execution_count": null,
   "id": "1865ffce",
   "metadata": {},
   "outputs": [],
   "source": []
  }
 ],
 "metadata": {
  "kernelspec": {
   "display_name": "Python 3 (ipykernel)",
   "language": "python",
   "name": "python3"
  },
  "language_info": {
   "codemirror_mode": {
    "name": "ipython",
    "version": 3
   },
   "file_extension": ".py",
   "mimetype": "text/x-python",
   "name": "python",
   "nbconvert_exporter": "python",
   "pygments_lexer": "ipython3",
   "version": "3.9.12"
  },
  "latex_envs": {
   "LaTeX_envs_menu_present": true,
   "autoclose": false,
   "autocomplete": true,
   "bibliofile": "biblio.bib",
   "cite_by": "apalike",
   "current_citInitial": 1,
   "eqLabelWithNumbers": true,
   "eqNumInitial": 1,
   "hotkeys": {
    "equation": "Ctrl-E",
    "itemize": "Ctrl-I"
   },
   "labels_anchors": false,
   "latex_user_defs": false,
   "report_style_numbering": false,
   "user_envs_cfg": false
  },
  "toc": {
   "base_numbering": 1,
   "nav_menu": {},
   "number_sections": true,
   "sideBar": true,
   "skip_h1_title": false,
   "title_cell": "Table of Contents",
   "title_sidebar": "Contents",
   "toc_cell": false,
   "toc_position": {},
   "toc_section_display": true,
   "toc_window_display": false
  }
 },
 "nbformat": 4,
 "nbformat_minor": 5
}
