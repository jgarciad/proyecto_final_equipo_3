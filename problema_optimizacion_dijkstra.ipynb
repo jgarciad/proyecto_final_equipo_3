{
 "cells": [
  {
   "cell_type": "markdown",
   "id": "bfd87b6e",
   "metadata": {},
   "source": [
    "## Problema de optimización de camino más corto\n",
    "\n",
    "Sea $G=(V,E,C)$ un grafo dirigido, donde:\n",
    "V es el conjunto de nodos, \n",
    "E es el conjunto de vínculos o links o edges y \n",
    "$C:E\\rightarrow R$ es una función que asigna una longitud a cualquier edge.\n",
    "\n",
    "La longitud de cualquier camino es la suma de las longitudes de los ejes que conectan los nodos pertenecientes al camino.\n",
    "Un ciclo C es un camino $P={i_1,i_2,…,i_k}$ tal que o bien $(i_1,i_k)\\in E$ o bien $(i_k,i_1) \\in E$.\n",
    "\n",
    "Para este problema en específico, el problema consiste en encontrar el camino más corto desde un nodo inicial a todos los otros nodos. Este tipo de problema se denomina problema de camino más corto y se puede formular  de la siguiente forma:\n",
    "\n",
    "$$min_{(i,j)\\in E}\\sum c(i,j)x(i,j)$$\n",
    "s.a.\n",
    "$$\\sum_{(i,j)\\in E}x(i,j)-\\sum_{(i,j)\\in E}x(j,i)=b_i; i=1,..,n$$\n",
    "$$b_s=n-1$$\n",
    "$$b_i=-1, i\\neq s$$\n",
    "$$x(i,j) \\in \\{0,1\\}$$\n",
    "\n",
    "$c(i,j)$ se puede interpretar como el costo de flujo del edge que va de i a j,\n",
    "\n",
    "El problema anterior implica que el problema del camino más corto consiste en encontrar para cada nodo $i \\in V$ diferente del nodo inicial s el camino dirigido con la distancia más corta."
   ]
  },
  {
   "cell_type": "markdown",
   "id": "288d9636",
   "metadata": {},
   "source": [
    "## Definición del camino más corto\n",
    "\n",
    "Un algoritmo de camino más corto  mantiene y ajusta un vector de distancias $\\phi(i),i=1,..,n$, los cuales satisfacen la desigualdad $$\\phi(j) \\leq \\phi(i)+c(i,j), \\forall(i,j) \\in E$$ \n",
    "\n",
    "Sea P el camino que empieza en el nodo $i_1$ y termina en el nodo $i_k$, si \n",
    "\n",
    "$$\\phi(j)=\\phi(i)+c(i,j) \\forall(i,j) \\in P,$$\n",
    "\n",
    "entonces P es el camino más corto de $i_i$ a $i_k.$\n",
    "\n",
    "El algoritmo de Dijkstra mantiene y ajusta un vector de etiquetas de distancias de los nodos. El conjunto de nodos se dividen en dos: aquéllos etiquetados permanentemente (cuando el algoritmo ya encontró la distancia más corta) y aquéllos etiquetados temporalmente (la cota alta de las distancias). Las etiquetas temporales se almacenan en la lista Q (inicialmente, la lista Q contiene a todos los nodos excepto a s). \n",
    "\n",
    "1. Al principio, el nodo inicial s tiene una etiqueta permanente igual a cero, mientras que los otros nodos tienen una etiqueta temporal de infinito. \n",
    "2. En cada iteración, el algoritmo :\n",
    "- actualiza (y en su caso remueve de Q) el nodo i correspondiente a la etiqueta temporal, \n",
    "- revisa todos los edges que inician en i para posiblemente actualizar las etiquetas temporales y \n",
    "- designa la etiqueta permanente como la óptima.\n",
    "\n",
    "\n",
    "El algoritmo de Dijkstra mantiene un árbol T, el cual inicia en s y se expande a los nodos con etiquetas finitas. T es ordenado mediante indices predecesores p, tal que si $(i,j) \\in T, p(j)=i$. Por cada edge $(i,j) \\in T$, $\\phi(j)=\\phi(i)+c(i,j)$, con $\\phi()$ como la etiqueta de distancia. \n",
    "\n",
    "Cuando todas las etiquetas temporales se vuelven permanentes, Q se queda vacía, el algoritmo de Dijkstra termina y T representa el árbol de camino más corto.\n"
   ]
  },
  {
   "cell_type": "markdown",
   "id": "e0cae9dc",
   "metadata": {},
   "source": [
    "## Pseudocódigo de Dijkstra\n",
    "\n",
    "El algoritmo de Dijkstra realiza dos tipos de operaciones: selecciona los nodos de la lista Q y actualiza las etiquetas de distancia. Dijkstra realiza una selección de nodos de tantos nodos tenga el conjunto V. En cada selección, el algoritmo escanea los elementos de Q para seleccionar y remover nodos de la lista temporal Q.\n",
    "\n",
    "$$Q := V \\backslash \\{s\\}; \\phi(s) := 0; p(s) := s;$$\n",
    "$$\\phi(i) := \\infty; p(i) := nil; \\forall I \\in V, I \\neq s;$$\n",
    "while\n",
    "$$ Q \\neq  \\varnothing$$do\n",
    "$$i=argmin_{j \\in Q} \\phi(j); Q = Q \\backslash \\{i\\};$$\n",
    "foreach each outgoing edge (i,j) do\n",
    "$$\\phi(j) > \\phi(i) + c(i,j) then$$\n",
    "$$\\phi(j):= \\phi(i)+c(i,j); p(j):=i;$$\n",
    "if $j \\notin Q add j\n",
    "end\n",
    "\n"
   ]
  },
  {
   "cell_type": "markdown",
   "id": "ac57954c",
   "metadata": {},
   "source": []
  }
 ],
 "metadata": {
  "kernelspec": {
   "display_name": "Python 3 (ipykernel)",
   "language": "python",
   "name": "python3"
  },
  "language_info": {
   "codemirror_mode": {
    "name": "ipython",
    "version": 3
   },
   "file_extension": ".py",
   "mimetype": "text/x-python",
   "name": "python",
   "nbconvert_exporter": "python",
   "pygments_lexer": "ipython3",
   "version": "3.9.12"
  }
 },
 "nbformat": 4,
 "nbformat_minor": 5
}
